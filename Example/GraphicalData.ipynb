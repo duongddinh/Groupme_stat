{
  "nbformat": 4,
  "nbformat_minor": 0,
  "metadata": {
    "colab": {
      "provenance": [],
      "authorship_tag": "ABX9TyMxFFv1la6qkFU3Wlgnh+3w",
      "include_colab_link": true
    },
    "kernelspec": {
      "name": "python3",
      "display_name": "Python 3"
    },
    "language_info": {
      "name": "python"
    }
  },
  "cells": [
    {
      "cell_type": "markdown",
      "metadata": {
        "id": "view-in-github",
        "colab_type": "text"
      },
      "source": [
        "<a href=\"https://colab.research.google.com/github/frychicken/Groupme_stat/blob/main/GraphicalData.ipynb\" target=\"_parent\"><img src=\"https://colab.research.google.com/assets/colab-badge.svg\" alt=\"Open In Colab\"/></a>"
      ]
    },
    {
      "cell_type": "code",
      "source": [
        "import requests\n",
        "import csv\n",
        "import time\n",
        "import sys\n",
        "from datetime import datetime\n",
        "import pandas as pd\n",
        "import requests\n",
        "import json\n",
        "from ast import literal_eval\n",
        "import matplotlib.pyplot as plt\n"
      ],
      "metadata": {
        "id": "TrFsODq6S2Pw"
      },
      "execution_count": null,
      "outputs": []
    },
    {
      "cell_type": "code",
      "execution_count": null,
      "metadata": {
        "id": "3uaOQ4GbSs75"
      },
      "outputs": [],
      "source": [
        "access_token = ''\n",
        "group_id = ''\n",
        "base_url = 'https://api.groupme.com/v3'"
      ]
    },
    {
      "cell_type": "code",
      "source": [
        "def fetch_messages(group_id, access_token):\n",
        "    messages = []\n",
        "    url = f\"{base_url}/groups/{group_id}/messages\"\n",
        "    params = {'token': access_token, 'limit': 100}\n",
        "    last_id = None\n",
        "    total_fetched = 0\n",
        "    while True:\n",
        "        if last_id:\n",
        "            params['before_id'] = last_id\n",
        "\n",
        "        try:\n",
        "            response = requests.get(url, params=params)\n",
        "            response.raise_for_status()  # Check for HTTP errors\n",
        "            batch = response.json()['response']['messages']\n",
        "        except requests.exceptions.HTTPError as http_err:\n",
        "            # Handle common rate limiting error\n",
        "            if response.status_code == 429:\n",
        "                print(\"Rate limit exceeded. Waiting 60 seconds before retrying...\")\n",
        "                time.sleep(60)\n",
        "                continue\n",
        "            else:\n",
        "                print(f\"HTTP error occurred: {http_err}\")\n",
        "                break\n",
        "        except requests.exceptions.RequestException as req_err:\n",
        "            print(f\"Request error occurred: {req_err}\")\n",
        "            break\n",
        "        except Exception as e:\n",
        "            print(f\"An error occurred: {e}\")\n",
        "            break\n",
        "\n",
        "        if not batch:\n",
        "            break\n",
        "\n",
        "        messages.extend(batch)\n",
        "        last_id = batch[-1]['id']\n",
        "        total_fetched += len(batch)\n",
        "        print(f\"Total messages fetched: {total_fetched}\")\n",
        "    return messages\n",
        "\n",
        "def save_messages_to_csv(messages, filename):\n",
        "    try:\n",
        "        with open(filename, mode='w', newline='', encoding='utf-8') as file:\n",
        "            writer = csv.writer(file)\n",
        "            writer.writerow(['Name', 'Date', 'Message', 'Like Count', 'User ID', 'Liked By'])\n",
        "\n",
        "            for msg in messages:\n",
        "                name = msg['name']\n",
        "                # Convert timestamp to mm/dd/yyyy format\n",
        "                created_at = datetime.fromtimestamp(msg['created_at']).strftime('%m/%d/%Y')\n",
        "                text = msg['text']\n",
        "                like_count = len(msg['favorited_by'])\n",
        "                user_id = msg['user_id']\n",
        "                liked_by = ','.join(msg['favorited_by'])\n",
        "                writer.writerow([name, created_at, text, like_count, user_id, liked_by])\n",
        "    except Exception as e:\n",
        "        print(f\"Failed to save messages: {e}\")\n",
        "\n",
        "try:\n",
        "    messages = fetch_messages(group_id, access_token)\n",
        "    save_messages_to_csv(messages, 'groupme_chat_history.csv')\n",
        "    print(\"Messages have been successfully saved to 'groupme_chat_history.csv'.\")\n",
        "except Exception as e:\n",
        "    print(f\"An error occurred while fetching or saving messages: {e}\")\n",
        "    sys.exit(1)\n",
        "\n"
      ],
      "metadata": {
        "id": "_Z66NlQoUgh_"
      },
      "execution_count": null,
      "outputs": []
    },
    {
      "cell_type": "code",
      "source": [
        "def get_nickname(user_id):\n",
        "    url = f\"https://api.groupme.com/v3/groups/{group_id}?token={access_token}\"\n",
        "    response = requests.get(url)\n",
        "    if response.status_code == 200:\n",
        "        members = response.json().get('response', {}).get('members', [])\n",
        "        for member in members:\n",
        "            if str(member.get('user_id')) == str(user_id):\n",
        "                return member.get('nickname')\n",
        "    return 'Unknown'\n"
      ],
      "metadata": {
        "id": "Y2nWpIPYTERP"
      },
      "execution_count": null,
      "outputs": []
    },
    {
      "cell_type": "code",
      "source": [
        "df = pd.read_csv('groupme_chat_history.csv')"
      ],
      "metadata": {
        "id": "Gf8RKGElTE2n"
      },
      "execution_count": null,
      "outputs": []
    },
    {
      "cell_type": "code",
      "source": [
        "# Function to add value labels on top of each bar\n",
        "def add_value_labels(ax, spacing=5):\n",
        "    for rect in ax.patches:\n",
        "        y_value = rect.get_height()\n",
        "        x_value = rect.get_x() + rect.get_width() / 2\n",
        "        label = \"{:}\".format(y_value)\n",
        "        ax.annotate(label, (x_value, y_value), xytext=(0, spacing), textcoords=\"offset points\", ha='center', va='bottom')\n"
      ],
      "metadata": {
        "id": "cgZ50d7fTqN7"
      },
      "execution_count": null,
      "outputs": []
    },
    {
      "cell_type": "code",
      "source": [
        "df['Like Count'] = df['Like Count'].astype(int)\n",
        "likes_per_user = df.groupby('User ID')['Like Count'].sum()\n",
        "sorted_likes = likes_per_user.sort_values(ascending=False)\n",
        "nicknames = []\n",
        "like_counts = []\n",
        "for user_id in sorted_likes.head(30).index:\n",
        "    nickname = get_nickname(user_id)\n",
        "    like_count = sorted_likes[user_id]\n",
        "    nicknames.append(nickname)\n",
        "    like_counts.append(like_count)\n",
        "\n",
        "\n",
        "\n",
        "plt.figure(figsize=(15, 7))\n",
        "plt.bar(nicknames, like_counts, color='skyblue')\n",
        "plt.title('Top 30 Users by Like Count Including \"Unknown\"')\n",
        "plt.xticks(rotation=45, ha=\"right\")\n",
        "plt.xlabel('User Nickname')\n",
        "plt.ylabel('Like Count')\n",
        "add_value_labels(plt.gca())\n",
        "plt.tight_layout()\n",
        "plt.show()\n",
        "\n",
        "# Filtering out \"Unknown\" for the second graph\n",
        "filtered_nicknames = [nickname for nickname in nicknames if nickname != \"Unknown\"]\n",
        "filtered_like_counts = [like_counts[i] for i in range(len(nicknames)) if nicknames[i] != \"Unknown\"]\n",
        "\n",
        "# Plotting the graph excluding \"Unknown\"\n",
        "plt.figure(figsize=(15, 7))\n",
        "plt.bar(filtered_nicknames, filtered_like_counts, color='tomato')\n",
        "plt.title('Top 30 Users by Like Count Excluding \"Unknown\"')\n",
        "plt.xticks(rotation=45, ha=\"right\")\n",
        "plt.xlabel('User Nickname')\n",
        "plt.ylabel('Like Count')\n",
        "add_value_labels(plt.gca())  # Add value labels to each bar\n",
        "plt.tight_layout()\n",
        "plt.show()"
      ],
      "metadata": {
        "id": "vqebktJqTHbr"
      },
      "execution_count": null,
      "outputs": []
    },
    {
      "cell_type": "code",
      "source": [
        "message_counts = df.groupby('User ID')['User ID'].count()\n",
        "\n",
        "# Sort users by their total messages sent, descending\n",
        "sorted_message_counts = message_counts.sort_values(ascending=False)\n",
        "\n",
        "# Prepare data for plotting\n",
        "nicknames = []\n",
        "message_counts = []\n",
        "for user_id in sorted_message_counts.head(30).index:\n",
        "    nickname = get_nickname(user_id)\n",
        "    count = sorted_message_counts[user_id]\n",
        "    nicknames.append(nickname)\n",
        "    message_counts.append(count)\n",
        "\n",
        "# First Graph: Including \"Unknown\"\n",
        "plt.figure(figsize=(15, 7))\n",
        "bars = plt.bar(nicknames, message_counts, color='skyblue')\n",
        "plt.title('Top 30 Users by Message Count Including \"Unknown\"')\n",
        "plt.xticks(rotation=45, ha=\"right\")\n",
        "plt.xlabel('User Nickname')\n",
        "plt.ylabel('Messages Sent')\n",
        "add_value_labels(plt.gca())\n",
        "plt.tight_layout()\n",
        "plt.show()\n",
        "\n",
        "# Second Graph: Excluding \"Unknown\"\n",
        "filtered_nicknames = [n for n in nicknames if n != \"Unknown\"]\n",
        "filtered_counts = [message_counts[i] for i, n in enumerate(nicknames) if n != \"Unknown\"]\n",
        "\n",
        "plt.figure(figsize=(15, 7))\n",
        "bars = plt.bar(filtered_nicknames, filtered_counts, color='tomato')\n",
        "plt.title('Top 30 Users by Message Count Excluding \"Unknown\"')\n",
        "plt.xticks(rotation=45, ha=\"right\")\n",
        "plt.xlabel('User Nickname')\n",
        "plt.ylabel('Messages Sent')\n",
        "add_value_labels(plt.gca())\n",
        "plt.tight_layout()\n",
        "plt.show()"
      ],
      "metadata": {
        "id": "vpKj7oImTY0f"
      },
      "execution_count": null,
      "outputs": []
    },
    {
      "cell_type": "code",
      "source": [
        "def safe_parse(x):\n",
        "    try:\n",
        "        result = literal_eval(x)\n",
        "        if isinstance(result, int):\n",
        "            return [result]\n",
        "        return result\n",
        "    except:\n",
        "        return []\n",
        "df['Liked By'] = df['Liked By'].apply(lambda x: safe_parse(x) if pd.notnull(x) and x.strip() != '' else [])\n",
        "\n",
        "likes_given = {}\n",
        "\n",
        "for liked_by in df['Liked By']:\n",
        "    for user_id in liked_by:\n",
        "        if user_id in likes_given:\n",
        "            likes_given[user_id] += 1\n",
        "        else:\n",
        "            likes_given[user_id] = 1\n",
        "\n",
        "likes_given_df = pd.DataFrame(likes_given.items(), columns=['User ID', 'Likes Given'])\n",
        "\n",
        "sorted_likes_given = likes_given_df.sort_values(by='Likes Given', ascending=False).reset_index(drop=True)\n",
        "\n",
        "# Prepare data for plotting\n",
        "nicknames = [get_nickname(user_id) for user_id in sorted_likes_given.head(30)['User ID']]\n",
        "likes_given = list(sorted_likes_given.head(30)['Likes Given'])\n"
      ],
      "metadata": {
        "id": "mqBslwc0T2ui"
      },
      "execution_count": null,
      "outputs": []
    },
    {
      "cell_type": "code",
      "source": [
        "plt.figure(figsize=(15, 7))\n",
        "bars = plt.bar(nicknames, likes_given, color='skyblue')\n",
        "plt.title('Top 30 Users by Likes Given Including \"Unknown\"')\n",
        "plt.xticks(rotation=45, ha=\"right\")\n",
        "plt.xlabel('User Nickname')\n",
        "plt.ylabel('Likes Given')\n",
        "add_value_labels(plt.gca())\n",
        "plt.tight_layout()\n",
        "plt.show()\n",
        "\n",
        "# Second Graph: Excluding \"Unknown\"\n",
        "filtered_nicknames = [n for n in nicknames if n != \"Unknown\"]\n",
        "filtered_likes_given = [likes_given[i] for i, n in enumerate(nicknames) if n != \"Unknown\"]\n",
        "\n",
        "plt.figure(figsize=(15, 7))\n",
        "bars = plt.bar(filtered_nicknames, filtered_likes_given, color='tomato')\n",
        "plt.title('Top 30 Users by Likes Given Excluding \"Unknown\"')\n",
        "plt.xticks(rotation=45, ha=\"right\")\n",
        "plt.xlabel('User Nickname')\n",
        "plt.ylabel('Likes Given')\n",
        "add_value_labels(plt.gca())\n",
        "plt.tight_layout()\n",
        "plt.show()"
      ],
      "metadata": {
        "id": "rvKJK8Z-T4fu"
      },
      "execution_count": null,
      "outputs": []
    },
    {
      "cell_type": "code",
      "source": [
        "df['Like Count'] = df['Like Count'].astype(int)\n",
        "\n",
        "# Aggregate and calculate as per the provided script\n",
        "agg_df = df.groupby('User ID').agg({'Like Count': ['sum', 'count']})\n",
        "agg_df.columns = ['Total Likes Received', 'Total Messages Sent']\n",
        "agg_df['Average Likes per Message'] = agg_df['Total Likes Received'] / agg_df['Total Messages Sent']\n",
        "sorted_agg_df = agg_df.sort_values(by='Average Likes per Message', ascending=False).reset_index()\n",
        "top_10_users = sorted_agg_df.head(10)\n",
        "\n",
        "# Fetching nicknames and filtering out \"Unknown\"\n",
        "top_10_users['Nickname'] = top_10_users['User ID'].apply(get_nickname)\n",
        "filtered_top_10_users = top_10_users[top_10_users['Nickname'] != 'Unknown']\n",
        "\n",
        "# Prepare data for plotting\n",
        "nicknames = filtered_top_10_users['Nickname']\n",
        "average_likes = filtered_top_10_users['Average Likes per Message']\n",
        "\n",
        "# Plotting\n",
        "plt.figure(figsize=(10, 6))\n",
        "bars = plt.bar(nicknames, average_likes, color='skyblue')\n",
        "plt.title('Top Users by Average Likes per Message (Excluding \"Unknown\")')\n",
        "plt.xlabel('User Nickname')\n",
        "plt.ylabel('Average Likes per Message')\n",
        "plt.xticks(rotation=45, ha=\"right\")\n",
        "\n",
        "add_value_labels(plt.gca())\n",
        "plt.tight_layout()\n",
        "plt.show()\n"
      ],
      "metadata": {
        "id": "73UJlvDgT7_j"
      },
      "execution_count": null,
      "outputs": []
    },
    {
      "cell_type": "code",
      "source": [
        "def convert_to_list(liked_by_str):\n",
        "    if pd.isnull(liked_by_str) or not liked_by_str.strip():\n",
        "        return []\n",
        "    return [user_id.strip() for user_id in liked_by_str.split(',')]\n",
        "\n",
        "df['Liked By'] = df['Liked By'].apply(convert_to_list)\n",
        "\n",
        "self_likes = {}\n",
        "for _, row in df.iterrows():\n",
        "    user_id = row['User ID']\n",
        "    liked_by = row['Liked By']\n",
        "    if str(user_id) in liked_by:\n",
        "        self_likes[user_id] = self_likes.get(user_id, 0) + 1\n",
        "\n",
        "self_likes_df = pd.DataFrame(list(self_likes.items()), columns=['User ID', 'Self Likes'])\n",
        "sorted_self_likes = self_likes_df.sort_values(by='Self Likes', ascending=False).reset_index(drop=True)\n",
        "\n",
        "# Fetching nicknames\n",
        "sorted_self_likes['Nickname'] = sorted_self_likes['User ID'].apply(get_nickname)\n",
        "\n",
        "# Prepare data for plotting including \"Unknown\"\n",
        "nicknames_incl_unknown = sorted_self_likes.head(30)['Nickname']\n",
        "self_likes_incl_unknown = sorted_self_likes.head(30)['Self Likes']\n",
        "\n",
        "# Prepare data for plotting excluding \"Unknown\"\n",
        "filtered_data = sorted_self_likes[sorted_self_likes['Nickname'] != 'Unknown'].head(30)\n",
        "nicknames_excl_unknown = filtered_data['Nickname']\n",
        "self_likes_excl_unknown = filtered_data['Self Likes']\n",
        "\n",
        "# Plotting including \"Unknown\"\n",
        "plt.figure(figsize=(10, 6))\n",
        "bars_incl_unknown = plt.bar(nicknames_incl_unknown, self_likes_incl_unknown, color='skyblue')\n",
        "plt.title('Top Users by Self Likes Including \"Unknown\"')\n",
        "plt.xlabel('User Nickname')\n",
        "plt.ylabel('Self Likes')\n",
        "plt.xticks(rotation=45, ha=\"right\")\n",
        "add_value_labels(plt.gca())\n",
        "plt.tight_layout()\n",
        "plt.show()\n",
        "\n",
        "# Plotting excluding \"Unknown\"\n",
        "plt.figure(figsize=(10, 6))\n",
        "bars_excl_unknown = plt.bar(nicknames_excl_unknown, self_likes_excl_unknown, color='tomato')\n",
        "plt.title('Top Users by Self Likes Excluding \"Unknown\"')\n",
        "plt.xlabel('User Nickname')\n",
        "plt.ylabel('Self Likes')\n",
        "plt.xticks(rotation=45, ha=\"right\")\n",
        "add_value_labels(plt.gca())\n",
        "plt.tight_layout()\n",
        "plt.show()\n"
      ],
      "metadata": {
        "id": "tG3B3_yqUFnZ"
      },
      "execution_count": null,
      "outputs": []
    },
    {
      "cell_type": "code",
      "source": [
        "df['Message Length'] = df['Message'].apply(lambda x: len(str(x)))\n",
        "\n",
        "agg_df = df.groupby('User ID')['Message Length'].mean().reset_index()\n",
        "\n",
        "sorted_agg_df = agg_df.sort_values(by='Message Length', ascending=False)\n",
        "\n",
        "sorted_agg_df['Nickname'] = sorted_agg_df['User ID'].apply(get_nickname)\n",
        "top_30_users = sorted_agg_df.head(30)\n",
        "\n",
        "include_unknown = top_30_users\n",
        "exclude_unknown = top_30_users[top_30_users['Nickname'] != 'Unknown']\n",
        "\n",
        "def plot_avg_message_length(data, title, color):\n",
        "    plt.figure(figsize=(12, 8))\n",
        "    bars = plt.bar(data['Nickname'], data['Message Length'], color=color)\n",
        "    plt.title(title)\n",
        "    plt.xlabel('User Nickname')\n",
        "    plt.ylabel('Average Message Length')\n",
        "    plt.xticks(rotation=45, ha=\"right\")\n",
        "\n",
        "    for bar in bars:\n",
        "        yval = bar.get_height()\n",
        "        plt.text(bar.get_x() + bar.get_width()/2, yval, round(yval, 2), ha='center', va='bottom')\n",
        "\n",
        "    plt.tight_layout()\n",
        "    plt.show()\n",
        "\n",
        "plot_avg_message_length(include_unknown, 'Top 30 Users by Average Characters per Message Including \"Unknown\"', 'skyblue')\n",
        "\n",
        "plot_avg_message_length(exclude_unknown, 'Top 30 Users by Average Characters per Message Excluding \"Unknown\"', 'lightgreen')\n"
      ],
      "metadata": {
        "id": "R_i71oC4UPAY"
      },
      "execution_count": null,
      "outputs": []
    }
  ]
}